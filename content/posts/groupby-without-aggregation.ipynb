{
 "cells": [
  {
   "cell_type": "markdown",
   "metadata": {},
   "source": [
    "Pandas has a useful feature that I didn't appreciate enough when I first started using it: `groupby`s without aggregation. What do I mean by that? Let's look at an example.\n",
    "\n",
    "We'll borrow the data structure from my previous post about [counting the periods since an event](https://johnpaton.github.io/posts/periods-since-time-series-events/): company accident data. We have a list of workplace accidents for some company since 1980, including the time and location of the accident (no it's not real, I generated it, please don't send your lawyers to investigate a data breach): "
   ]
  },
  {
   "cell_type": "code",
   "execution_count": 1,
   "metadata": {
    "collapsed": true
   },
   "outputs": [],
   "source": [
    "import pandas as pd\n",
    "import numpy as np"
   ]
  },
  {
   "cell_type": "code",
   "execution_count": 2,
   "metadata": {
    "collapsed": true
   },
   "outputs": [],
   "source": [
    "pd.options.display.max_rows = 6\n",
    "\n",
    "start = pd.to_datetime(\"01-01-1980\")\n",
    "end = pd.to_datetime(\"today\")\n",
    "n = 250\n",
    "\n",
    "events = [\n",
    "    pd.to_datetime(x, unit=\"s\")\n",
    "    for x in np.random.uniform(start.timestamp(), end.timestamp(), n)\n",
    "]\n",
    "lengths = [pd.to_timedelta(\"{}h\".format(abs(x))) for x in np.random.normal(6, 2, n)]\n",
    "places = list(np.random.choice([\"Amsterdam\", \"Birmingham\"], n))\n",
    "types = list(np.random.choice([1, 2, 3], n, p=[0.6, 0.3, 0.1]))\n",
    "\n",
    "df = pd.DataFrame(\n",
    "    {\"time\": events, \"location\": places, \"severity\": types},\n",
    "    columns=[\"time\", \"location\", \"severity\"],\n",
    ").sort_values(\"time\")\n",
    "df = df.set_index(\"time\")"
   ]
  },
  {
   "cell_type": "code",
   "execution_count": 3,
   "metadata": {
    "collapsed": false,
    "scrolled": true
   },
   "outputs": [
    {
     "data": {
      "text/html": [
       "<div>\n",
       "<table border=\"1\" class=\"dataframe\">\n",
       "  <thead>\n",
       "    <tr style=\"text-align: right;\">\n",
       "      <th></th>\n",
       "      <th>location</th>\n",
       "      <th>severity</th>\n",
       "    </tr>\n",
       "    <tr>\n",
       "      <th>time</th>\n",
       "      <th></th>\n",
       "      <th></th>\n",
       "    </tr>\n",
       "  </thead>\n",
       "  <tbody>\n",
       "    <tr>\n",
       "      <th>1980-02-28 22:05:39</th>\n",
       "      <td>Birmingham</td>\n",
       "      <td>1</td>\n",
       "    </tr>\n",
       "    <tr>\n",
       "      <th>1980-03-01 02:12:20</th>\n",
       "      <td>Birmingham</td>\n",
       "      <td>3</td>\n",
       "    </tr>\n",
       "    <tr>\n",
       "      <th>1980-03-07 07:30:30</th>\n",
       "      <td>Amsterdam</td>\n",
       "      <td>1</td>\n",
       "    </tr>\n",
       "    <tr>\n",
       "      <th>1980-05-15 03:23:01</th>\n",
       "      <td>Amsterdam</td>\n",
       "      <td>1</td>\n",
       "    </tr>\n",
       "    <tr>\n",
       "      <th>1980-05-29 21:21:39</th>\n",
       "      <td>Birmingham</td>\n",
       "      <td>1</td>\n",
       "    </tr>\n",
       "  </tbody>\n",
       "</table>\n",
       "</div>"
      ],
      "text/plain": [
       "                       location  severity\n",
       "time                                     \n",
       "1980-02-28 22:05:39  Birmingham         1\n",
       "1980-03-01 02:12:20  Birmingham         3\n",
       "1980-03-07 07:30:30   Amsterdam         1\n",
       "1980-05-15 03:23:01   Amsterdam         1\n",
       "1980-05-29 21:21:39  Birmingham         1"
      ]
     },
     "execution_count": 3,
     "metadata": {},
     "output_type": "execute_result"
    }
   ],
   "source": [
    "df.head()"
   ]
  },
  {
   "cell_type": "markdown",
   "metadata": {},
   "source": [
    "Say we want to add the total number of accidents at each location as a column in the dataset. We could start off by doing a regular `groupby` to get the total number of accidents per location:"
   ]
  },
  {
   "cell_type": "code",
   "execution_count": 4,
   "metadata": {
    "collapsed": false
   },
   "outputs": [
    {
     "data": {
      "text/html": [
       "<div>\n",
       "<table border=\"1\" class=\"dataframe\">\n",
       "  <thead>\n",
       "    <tr style=\"text-align: right;\">\n",
       "      <th></th>\n",
       "      <th>severity</th>\n",
       "    </tr>\n",
       "    <tr>\n",
       "      <th>location</th>\n",
       "      <th></th>\n",
       "    </tr>\n",
       "  </thead>\n",
       "  <tbody>\n",
       "    <tr>\n",
       "      <th>Amsterdam</th>\n",
       "      <td>129</td>\n",
       "    </tr>\n",
       "    <tr>\n",
       "      <th>Birmingham</th>\n",
       "      <td>121</td>\n",
       "    </tr>\n",
       "  </tbody>\n",
       "</table>\n",
       "</div>"
      ],
      "text/plain": [
       "            severity\n",
       "location            \n",
       "Amsterdam        129\n",
       "Birmingham       121"
      ]
     },
     "execution_count": 4,
     "metadata": {},
     "output_type": "execute_result"
    }
   ],
   "source": [
    "gb = df.groupby(\"location\").count()\n",
    "gb"
   ]
  },
  {
   "cell_type": "markdown",
   "metadata": {},
   "source": [
    "But now we have to separately add this information to the dataframe.\n",
    "\n",
    "Instead, we have the option to directly operate on the whole group:"
   ]
  },
  {
   "cell_type": "code",
   "execution_count": 5,
   "metadata": {
    "collapsed": false
   },
   "outputs": [
    {
     "data": {
      "text/html": [
       "<div>\n",
       "<table border=\"1\" class=\"dataframe\">\n",
       "  <thead>\n",
       "    <tr style=\"text-align: right;\">\n",
       "      <th></th>\n",
       "      <th>location</th>\n",
       "      <th>severity</th>\n",
       "      <th>num_accidents</th>\n",
       "    </tr>\n",
       "    <tr>\n",
       "      <th>time</th>\n",
       "      <th></th>\n",
       "      <th></th>\n",
       "      <th></th>\n",
       "    </tr>\n",
       "  </thead>\n",
       "  <tbody>\n",
       "    <tr>\n",
       "      <th>1980-02-28 22:05:39</th>\n",
       "      <td>Birmingham</td>\n",
       "      <td>1</td>\n",
       "      <td>121</td>\n",
       "    </tr>\n",
       "    <tr>\n",
       "      <th>1980-03-01 02:12:20</th>\n",
       "      <td>Birmingham</td>\n",
       "      <td>3</td>\n",
       "      <td>121</td>\n",
       "    </tr>\n",
       "    <tr>\n",
       "      <th>1980-03-07 07:30:30</th>\n",
       "      <td>Amsterdam</td>\n",
       "      <td>1</td>\n",
       "      <td>129</td>\n",
       "    </tr>\n",
       "    <tr>\n",
       "      <th>1980-05-15 03:23:01</th>\n",
       "      <td>Amsterdam</td>\n",
       "      <td>1</td>\n",
       "      <td>129</td>\n",
       "    </tr>\n",
       "    <tr>\n",
       "      <th>1980-05-29 21:21:39</th>\n",
       "      <td>Birmingham</td>\n",
       "      <td>1</td>\n",
       "      <td>121</td>\n",
       "    </tr>\n",
       "  </tbody>\n",
       "</table>\n",
       "</div>"
      ],
      "text/plain": [
       "                       location  severity  num_accidents\n",
       "time                                                    \n",
       "1980-02-28 22:05:39  Birmingham         1            121\n",
       "1980-03-01 02:12:20  Birmingham         3            121\n",
       "1980-03-07 07:30:30   Amsterdam         1            129\n",
       "1980-05-15 03:23:01   Amsterdam         1            129\n",
       "1980-05-29 21:21:39  Birmingham         1            121"
      ]
     },
     "execution_count": 5,
     "metadata": {},
     "output_type": "execute_result"
    }
   ],
   "source": [
    "def accident_count(group):\n",
    "    c = group[\"severity\"].count()\n",
    "    group[\"num_accidents\"] = c\n",
    "\n",
    "    return group\n",
    "\n",
    "\n",
    "df = df.groupby(\"location\").apply(accident_count)\n",
    "df.head()"
   ]
  },
  {
   "cell_type": "markdown",
   "metadata": {},
   "source": [
    "Now, in this simple case we could have just performed a left join. However, this kind of `groupby` becomes especially handy when you have more complex operations you want to do within the group, without interference from other groups.\n",
    "\n",
    "As a more complex example, consider calculating the time between accidents at each location. Our dataframe is already sorted by accident time, so all we have to do is make a series out of the group's index (`time`) and take the difference between the rows to get the time differences between incidents. We insert this information directly into the group as a new column and return it:"
   ]
  },
  {
   "cell_type": "code",
   "execution_count": 6,
   "metadata": {
    "collapsed": false
   },
   "outputs": [
    {
     "data": {
      "text/html": [
       "<div>\n",
       "<table border=\"1\" class=\"dataframe\">\n",
       "  <thead>\n",
       "    <tr style=\"text-align: right;\">\n",
       "      <th></th>\n",
       "      <th>location</th>\n",
       "      <th>severity</th>\n",
       "      <th>num_accidents</th>\n",
       "      <th>time_since_previous</th>\n",
       "    </tr>\n",
       "    <tr>\n",
       "      <th>time</th>\n",
       "      <th></th>\n",
       "      <th></th>\n",
       "      <th></th>\n",
       "      <th></th>\n",
       "    </tr>\n",
       "  </thead>\n",
       "  <tbody>\n",
       "    <tr>\n",
       "      <th>1980-02-28 22:05:39</th>\n",
       "      <td>Birmingham</td>\n",
       "      <td>1</td>\n",
       "      <td>121</td>\n",
       "      <td>NaT</td>\n",
       "    </tr>\n",
       "    <tr>\n",
       "      <th>1980-03-01 02:12:20</th>\n",
       "      <td>Birmingham</td>\n",
       "      <td>3</td>\n",
       "      <td>121</td>\n",
       "      <td>1 days 04:06:41</td>\n",
       "    </tr>\n",
       "    <tr>\n",
       "      <th>1980-03-07 07:30:30</th>\n",
       "      <td>Amsterdam</td>\n",
       "      <td>1</td>\n",
       "      <td>129</td>\n",
       "      <td>NaT</td>\n",
       "    </tr>\n",
       "    <tr>\n",
       "      <th>1980-05-15 03:23:01</th>\n",
       "      <td>Amsterdam</td>\n",
       "      <td>1</td>\n",
       "      <td>129</td>\n",
       "      <td>68 days 19:52:31</td>\n",
       "    </tr>\n",
       "    <tr>\n",
       "      <th>1980-05-29 21:21:39</th>\n",
       "      <td>Birmingham</td>\n",
       "      <td>1</td>\n",
       "      <td>121</td>\n",
       "      <td>89 days 19:09:19</td>\n",
       "    </tr>\n",
       "  </tbody>\n",
       "</table>\n",
       "</div>"
      ],
      "text/plain": [
       "                       location  severity  num_accidents  time_since_previous\n",
       "time                                                                         \n",
       "1980-02-28 22:05:39  Birmingham         1            121                  NaT\n",
       "1980-03-01 02:12:20  Birmingham         3            121      1 days 04:06:41\n",
       "1980-03-07 07:30:30   Amsterdam         1            129                  NaT\n",
       "1980-05-15 03:23:01   Amsterdam         1            129     68 days 19:52:31\n",
       "1980-05-29 21:21:39  Birmingham         1            121     89 days 19:09:19"
      ]
     },
     "execution_count": 6,
     "metadata": {},
     "output_type": "execute_result"
    }
   ],
   "source": [
    "def time_difference(group):\n",
    "    # get the time differences and put them directly into the group\n",
    "    group[\"time_since_previous\"] = group.index.to_series().diff()\n",
    "\n",
    "    return group\n",
    "\n",
    "\n",
    "df.groupby(\"location\").apply(time_difference).head()"
   ]
  },
  {
   "cell_type": "markdown",
   "metadata": {},
   "source": [
    "We see that our dataframe maintains its original structure, but we now have information about each location that was calculated using only other datapoints from that location."
   ]
  },
  {
   "cell_type": "code",
   "execution_count": null,
   "metadata": {
    "collapsed": true
   },
   "outputs": [],
   "source": []
  }
 ],
 "metadata": {
  "kernelspec": {
   "display_name": "Python 3",
   "language": "python",
   "name": "python3"
  },
  "language_info": {
   "codemirror_mode": {
    "name": "ipython",
    "version": 3
   },
   "file_extension": ".py",
   "mimetype": "text/x-python",
   "name": "python",
   "nbconvert_exporter": "python",
   "pygments_lexer": "ipython3",
   "version": "3.6.0"
  }
 },
 "nbformat": 4,
 "nbformat_minor": 2
}
