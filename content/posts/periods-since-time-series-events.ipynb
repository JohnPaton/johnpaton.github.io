{
 "cells": [
  {
   "cell_type": "code",
   "execution_count": 1,
   "metadata": {
    "collapsed": true
   },
   "outputs": [],
   "source": [
    "import pandas as pd\n",
    "import numpy as np\n",
    "import matplotlib.pyplot as plt"
   ]
  },
  {
   "cell_type": "code",
   "execution_count": 2,
   "metadata": {
    "collapsed": true
   },
   "outputs": [],
   "source": [
    "pd.options.display.max_rows = 8\n",
    "% matplotlib inline"
   ]
  },
  {
   "cell_type": "code",
   "execution_count": 3,
   "metadata": {
    "collapsed": true
   },
   "outputs": [],
   "source": [
    "start = pd.to_datetime(\"01-01-1980\")\n",
    "end = pd.to_datetime(\"31-12-2016\")\n",
    "n = 250"
   ]
  },
  {
   "cell_type": "code",
   "execution_count": 4,
   "metadata": {
    "collapsed": true
   },
   "outputs": [],
   "source": [
    "events = [\n",
    "    pd.to_datetime(x, unit=\"s\")\n",
    "    for x in np.random.uniform(start.timestamp(), end.timestamp(), n)\n",
    "]\n",
    "lengths = [pd.to_timedelta(\"{}h\".format(abs(x))) for x in np.random.normal(6, 2, n)]\n",
    "places = list(np.random.choice([\"Amsterdam\", \"Birmingham\"], n))\n",
    "types = list(np.random.choice([1, 2, 3], n, p=[0.6, 0.3, 0.1]))"
   ]
  },
  {
   "cell_type": "code",
   "execution_count": 5,
   "metadata": {
    "collapsed": true
   },
   "outputs": [],
   "source": [
    "df = pd.DataFrame(\n",
    "    {\"time\": events, \"location\": places, \"severity\": types},\n",
    "    columns=[\"time\", \"location\", \"severity\"],\n",
    ").sort_values(\"time\")\n",
    "df = df.set_index(\"time\")"
   ]
  },
  {
   "cell_type": "markdown",
   "metadata": {
    "collapsed": true
   },
   "source": [
    "This is a cute trick I discovered the other day for quickly computing the time since an event on regularly spaced time series data (like monthly reporting), without looping over the data. \n",
    "\n",
    "Say we have a list of workplace accidents at different factory locations for a company. We could have a dataframe that looks something like this:"
   ]
  },
  {
   "cell_type": "code",
   "execution_count": 6,
   "metadata": {
    "collapsed": false
   },
   "outputs": [
    {
     "data": {
      "text/html": [
       "<div>\n",
       "<table border=\"1\" class=\"dataframe\">\n",
       "  <thead>\n",
       "    <tr style=\"text-align: right;\">\n",
       "      <th></th>\n",
       "      <th>location</th>\n",
       "      <th>severity</th>\n",
       "    </tr>\n",
       "    <tr>\n",
       "      <th>time</th>\n",
       "      <th></th>\n",
       "      <th></th>\n",
       "    </tr>\n",
       "  </thead>\n",
       "  <tbody>\n",
       "    <tr>\n",
       "      <th>1980-01-07 23:37:50</th>\n",
       "      <td>Amsterdam</td>\n",
       "      <td>1</td>\n",
       "    </tr>\n",
       "    <tr>\n",
       "      <th>1980-01-31 16:51:04</th>\n",
       "      <td>Amsterdam</td>\n",
       "      <td>2</td>\n",
       "    </tr>\n",
       "    <tr>\n",
       "      <th>1980-07-05 05:20:49</th>\n",
       "      <td>Birmingham</td>\n",
       "      <td>1</td>\n",
       "    </tr>\n",
       "    <tr>\n",
       "      <th>1980-07-25 10:49:03</th>\n",
       "      <td>Amsterdam</td>\n",
       "      <td>1</td>\n",
       "    </tr>\n",
       "    <tr>\n",
       "      <th>1980-08-10 05:13:19</th>\n",
       "      <td>Amsterdam</td>\n",
       "      <td>1</td>\n",
       "    </tr>\n",
       "  </tbody>\n",
       "</table>\n",
       "</div>"
      ],
      "text/plain": [
       "                       location  severity\n",
       "time                                     \n",
       "1980-01-07 23:37:50   Amsterdam         1\n",
       "1980-01-31 16:51:04   Amsterdam         2\n",
       "1980-07-05 05:20:49  Birmingham         1\n",
       "1980-07-25 10:49:03   Amsterdam         1\n",
       "1980-08-10 05:13:19   Amsterdam         1"
      ]
     },
     "execution_count": 6,
     "metadata": {},
     "output_type": "execute_result"
    }
   ],
   "source": [
    "df.head()"
   ]
  },
  {
   "cell_type": "markdown",
   "metadata": {},
   "source": [
    "Now, our company has decided they want to know how many months each location has gone without an accident, and they want this historically. Maybe they are going to use it as input for a machine learning model that makes monthly predictions, or they might just be curious. \n",
    "\n",
    "Our plan of attack is as follows:\n",
    "\n",
    "1. One-hot encode the severity\n",
    "2. Resample the data so that it is regularly spaced\n",
    "3. For each severity, make a counter that increases per period, resetting whenever there was an accident during that period\n",
    "\n",
    "Pandas makes step 1 very easy:"
   ]
  },
  {
   "cell_type": "code",
   "execution_count": 7,
   "metadata": {
    "collapsed": false
   },
   "outputs": [
    {
     "data": {
      "text/html": [
       "<div>\n",
       "<table border=\"1\" class=\"dataframe\">\n",
       "  <thead>\n",
       "    <tr style=\"text-align: right;\">\n",
       "      <th></th>\n",
       "      <th>location</th>\n",
       "      <th>severity_1</th>\n",
       "      <th>severity_2</th>\n",
       "      <th>severity_3</th>\n",
       "    </tr>\n",
       "    <tr>\n",
       "      <th>time</th>\n",
       "      <th></th>\n",
       "      <th></th>\n",
       "      <th></th>\n",
       "      <th></th>\n",
       "    </tr>\n",
       "  </thead>\n",
       "  <tbody>\n",
       "    <tr>\n",
       "      <th>1980-01-07 23:37:50</th>\n",
       "      <td>Amsterdam</td>\n",
       "      <td>1.0</td>\n",
       "      <td>0.0</td>\n",
       "      <td>0.0</td>\n",
       "    </tr>\n",
       "    <tr>\n",
       "      <th>1980-01-31 16:51:04</th>\n",
       "      <td>Amsterdam</td>\n",
       "      <td>0.0</td>\n",
       "      <td>1.0</td>\n",
       "      <td>0.0</td>\n",
       "    </tr>\n",
       "    <tr>\n",
       "      <th>1980-07-05 05:20:49</th>\n",
       "      <td>Birmingham</td>\n",
       "      <td>1.0</td>\n",
       "      <td>0.0</td>\n",
       "      <td>0.0</td>\n",
       "    </tr>\n",
       "    <tr>\n",
       "      <th>1980-07-25 10:49:03</th>\n",
       "      <td>Amsterdam</td>\n",
       "      <td>1.0</td>\n",
       "      <td>0.0</td>\n",
       "      <td>0.0</td>\n",
       "    </tr>\n",
       "    <tr>\n",
       "      <th>1980-08-10 05:13:19</th>\n",
       "      <td>Amsterdam</td>\n",
       "      <td>1.0</td>\n",
       "      <td>0.0</td>\n",
       "      <td>0.0</td>\n",
       "    </tr>\n",
       "  </tbody>\n",
       "</table>\n",
       "</div>"
      ],
      "text/plain": [
       "                       location  severity_1  severity_2  severity_3\n",
       "time                                                               \n",
       "1980-01-07 23:37:50   Amsterdam         1.0         0.0         0.0\n",
       "1980-01-31 16:51:04   Amsterdam         0.0         1.0         0.0\n",
       "1980-07-05 05:20:49  Birmingham         1.0         0.0         0.0\n",
       "1980-07-25 10:49:03   Amsterdam         1.0         0.0         0.0\n",
       "1980-08-10 05:13:19   Amsterdam         1.0         0.0         0.0"
      ]
     },
     "execution_count": 7,
     "metadata": {},
     "output_type": "execute_result"
    }
   ],
   "source": [
    "df_onehot = pd.get_dummies(df, columns=[\"severity\"])\n",
    "df_onehot.head()"
   ]
  },
  {
   "cell_type": "markdown",
   "metadata": {},
   "source": [
    "Next up, we resample. We want the data by location, so we will first group by location and then resample each group. Since we've one-hot encoded the data, the number of accidents in each period is just the sum of all the rows that fall into the period. Periods with no rows will be NaN, so we fill them with 0 since no accidents occurred in that period."
   ]
  },
  {
   "cell_type": "code",
   "execution_count": 8,
   "metadata": {
    "collapsed": false
   },
   "outputs": [
    {
     "data": {
      "text/html": [
       "<div>\n",
       "<table border=\"1\" class=\"dataframe\">\n",
       "  <thead>\n",
       "    <tr style=\"text-align: right;\">\n",
       "      <th></th>\n",
       "      <th></th>\n",
       "      <th>severity_1</th>\n",
       "      <th>severity_2</th>\n",
       "      <th>severity_3</th>\n",
       "    </tr>\n",
       "    <tr>\n",
       "      <th>location</th>\n",
       "      <th>time</th>\n",
       "      <th></th>\n",
       "      <th></th>\n",
       "      <th></th>\n",
       "    </tr>\n",
       "  </thead>\n",
       "  <tbody>\n",
       "    <tr>\n",
       "      <th rowspan=\"4\" valign=\"top\">Amsterdam</th>\n",
       "      <th>1980-01-31</th>\n",
       "      <td>1.0</td>\n",
       "      <td>1.0</td>\n",
       "      <td>0.0</td>\n",
       "    </tr>\n",
       "    <tr>\n",
       "      <th>1980-02-29</th>\n",
       "      <td>0.0</td>\n",
       "      <td>0.0</td>\n",
       "      <td>0.0</td>\n",
       "    </tr>\n",
       "    <tr>\n",
       "      <th>1980-03-31</th>\n",
       "      <td>0.0</td>\n",
       "      <td>0.0</td>\n",
       "      <td>0.0</td>\n",
       "    </tr>\n",
       "    <tr>\n",
       "      <th>1980-04-30</th>\n",
       "      <td>0.0</td>\n",
       "      <td>0.0</td>\n",
       "      <td>0.0</td>\n",
       "    </tr>\n",
       "    <tr>\n",
       "      <th>...</th>\n",
       "      <th>...</th>\n",
       "      <td>...</td>\n",
       "      <td>...</td>\n",
       "      <td>...</td>\n",
       "    </tr>\n",
       "    <tr>\n",
       "      <th rowspan=\"4\" valign=\"top\">Birmingham</th>\n",
       "      <th>2016-09-30</th>\n",
       "      <td>0.0</td>\n",
       "      <td>0.0</td>\n",
       "      <td>0.0</td>\n",
       "    </tr>\n",
       "    <tr>\n",
       "      <th>2016-10-31</th>\n",
       "      <td>0.0</td>\n",
       "      <td>0.0</td>\n",
       "      <td>0.0</td>\n",
       "    </tr>\n",
       "    <tr>\n",
       "      <th>2016-11-30</th>\n",
       "      <td>0.0</td>\n",
       "      <td>0.0</td>\n",
       "      <td>0.0</td>\n",
       "    </tr>\n",
       "    <tr>\n",
       "      <th>2016-12-31</th>\n",
       "      <td>0.0</td>\n",
       "      <td>1.0</td>\n",
       "      <td>0.0</td>\n",
       "    </tr>\n",
       "  </tbody>\n",
       "</table>\n",
       "<p>879 rows × 3 columns</p>\n",
       "</div>"
      ],
      "text/plain": [
       "                       severity_1  severity_2  severity_3\n",
       "location   time                                          \n",
       "Amsterdam  1980-01-31         1.0         1.0         0.0\n",
       "           1980-02-29         0.0         0.0         0.0\n",
       "           1980-03-31         0.0         0.0         0.0\n",
       "           1980-04-30         0.0         0.0         0.0\n",
       "...                           ...         ...         ...\n",
       "Birmingham 2016-09-30         0.0         0.0         0.0\n",
       "           2016-10-31         0.0         0.0         0.0\n",
       "           2016-11-30         0.0         0.0         0.0\n",
       "           2016-12-31         0.0         1.0         0.0\n",
       "\n",
       "[879 rows x 3 columns]"
      ]
     },
     "execution_count": 8,
     "metadata": {},
     "output_type": "execute_result"
    }
   ],
   "source": [
    "df_periodic = df_onehot.groupby(\"location\").resample(\"1M\").sum().fillna(0)\n",
    "df_periodic"
   ]
  },
  {
   "cell_type": "markdown",
   "metadata": {},
   "source": [
    "Finally, we want the counter that resets at each period where there was an accident. Let's first do it for one severity and location, and then we'll implement our work on the entire dataset. We'll choose Amsterdam and the lowest severity accidents. "
   ]
  },
  {
   "cell_type": "code",
   "execution_count": 9,
   "metadata": {
    "collapsed": false
   },
   "outputs": [
    {
     "data": {
      "text/plain": [
       "time\n",
       "1980-01-31    1.0\n",
       "1980-02-29    0.0\n",
       "1980-03-31    0.0\n",
       "1980-04-30    0.0\n",
       "             ... \n",
       "2016-06-30    0.0\n",
       "2016-07-31    0.0\n",
       "2016-08-31    1.0\n",
       "2016-09-30    1.0\n",
       "Name: severity_1, dtype: float64"
      ]
     },
     "execution_count": 9,
     "metadata": {},
     "output_type": "execute_result"
    }
   ],
   "source": [
    "amsterdam_low = df_periodic.loc[(\"Amsterdam\"), \"severity_1\"]\n",
    "amsterdam_low"
   ]
  },
  {
   "cell_type": "markdown",
   "metadata": {},
   "source": [
    "Okay, so we have a series with the number of accidents per month. \n",
    "\n",
    "Now here comes the trick. What we are going to do is set up two new series with the same index as the reports: one with a count that increases monotonically, and one that has the value of the count at every period where we want to reset. "
   ]
  },
  {
   "cell_type": "code",
   "execution_count": 10,
   "metadata": {
    "collapsed": false
   },
   "outputs": [
    {
     "data": {
      "text/plain": [
       "time\n",
       "1980-01-31      0\n",
       "1980-02-29      1\n",
       "1980-03-31      2\n",
       "1980-04-30      3\n",
       "             ... \n",
       "2016-06-30    437\n",
       "2016-07-31    438\n",
       "2016-08-31    439\n",
       "2016-09-30    440\n",
       "dtype: int64"
      ]
     },
     "execution_count": 10,
     "metadata": {},
     "output_type": "execute_result"
    }
   ],
   "source": [
    "count = list(range(len(amsterdam_low)))\n",
    "count = pd.Series(count, index=amsterdam_low.index)\n",
    "count"
   ]
  },
  {
   "cell_type": "code",
   "execution_count": 11,
   "metadata": {
    "collapsed": false
   },
   "outputs": [
    {
     "data": {
      "text/plain": [
       "time\n",
       "1980-01-31      0.0\n",
       "1980-02-29      NaN\n",
       "1980-03-31      NaN\n",
       "1980-04-30      NaN\n",
       "              ...  \n",
       "2016-06-30      NaN\n",
       "2016-07-31      NaN\n",
       "2016-08-31    439.0\n",
       "2016-09-30    440.0\n",
       "dtype: float64"
      ]
     },
     "execution_count": 11,
     "metadata": {},
     "output_type": "execute_result"
    }
   ],
   "source": [
    "resets = count.where(amsterdam_low > 0)\n",
    "resets"
   ]
  },
  {
   "cell_type": "markdown",
   "metadata": {},
   "source": [
    "Now we forward fill the values in `resets` using `.fillna(method='pad')`. That will give us a series of constant values, which step up by some amount at each index where there was an accident in `amsterdam_low`. This series will act as a baseline which we can subtract from `count`, so that at each accident the resulting series will reset to zero and then start counting up again. The first values before the first accident in the dataset will still be NaN, which is the desired behavious because we don't know what these values should be. "
   ]
  },
  {
   "cell_type": "code",
   "execution_count": 12,
   "metadata": {
    "collapsed": false
   },
   "outputs": [
    {
     "data": {
      "text/plain": [
       "time\n",
       "1980-01-31      0.0\n",
       "1980-02-29      0.0\n",
       "1980-03-31      0.0\n",
       "1980-04-30      0.0\n",
       "              ...  \n",
       "2016-06-30    435.0\n",
       "2016-07-31    435.0\n",
       "2016-08-31    439.0\n",
       "2016-09-30    440.0\n",
       "dtype: float64"
      ]
     },
     "execution_count": 12,
     "metadata": {},
     "output_type": "execute_result"
    }
   ],
   "source": [
    "resets = resets.fillna(method=\"pad\")\n",
    "resets"
   ]
  },
  {
   "cell_type": "code",
   "execution_count": 13,
   "metadata": {
    "collapsed": false
   },
   "outputs": [
    {
     "data": {
      "text/plain": [
       "time\n",
       "1980-01-31    0.0\n",
       "1980-02-29    1.0\n",
       "1980-03-31    2.0\n",
       "1980-04-30    3.0\n",
       "             ... \n",
       "2016-06-30    2.0\n",
       "2016-07-31    3.0\n",
       "2016-08-31    0.0\n",
       "2016-09-30    0.0\n",
       "dtype: float64"
      ]
     },
     "execution_count": 13,
     "metadata": {},
     "output_type": "execute_result"
    }
   ],
   "source": [
    "since_accident = count - resets\n",
    "since_accident"
   ]
  },
  {
   "cell_type": "markdown",
   "metadata": {},
   "source": [
    "Plotting the three series makes it clearer what exactly the trick was."
   ]
  },
  {
   "cell_type": "code",
   "execution_count": 14,
   "metadata": {
    "collapsed": false
   },
   "outputs": [
    {
     "data": {
      "image/png": "[encoded data removed]",
      "text/plain": [
       "<matplotlib.figure.Figure at 0x86c4610>"
      ]
     },
     "metadata": {},
     "output_type": "display_data"
    }
   ],
   "source": [
    "count.plot(figsize=(12, 5))\n",
    "resets.plot()\n",
    "since_accident.plot()\n",
    "plt.legend([\"count\", \"baseline\", \"periods since accident\"], loc=\"best\")\n",
    "plt.ylabel(\"periods\")\n",
    "plt.xlabel(\"date\")\n",
    "plt.title(\"Periods since severity 1 accident in Amsterdam\");"
   ]
  },
  {
   "cell_type": "markdown",
   "metadata": {},
   "source": [
    "We've done it! What's nice about this trick is that we don't have to loop over all the accidents, so it scales well to larger data sets. To finish up, we do the same for all the accident types."
   ]
  },
  {
   "cell_type": "code",
   "execution_count": 15,
   "metadata": {
    "collapsed": false
   },
   "outputs": [
    {
     "data": {
      "image/png": "[encoded data removed]",
      "text/plain": [
       "<matplotlib.figure.Figure at 0xa5b5cf0>"
      ]
     },
     "metadata": {},
     "output_type": "display_data"
    }
   ],
   "source": [
    "def periods_since_accident(group):\n",
    "    g = group.copy()\n",
    "    count = list(range(len(g)))\n",
    "    count = pd.Series(count, index=group.index)\n",
    "\n",
    "    for col in g.columns.tolist():\n",
    "        resets = count.where(group[col] > 0).fillna(method=\"pad\")\n",
    "        g[\"periods_since_\" + col] = count - resets\n",
    "\n",
    "    return g\n",
    "\n",
    "\n",
    "df_report = df_periodic.groupby(level=0).apply(periods_since_accident)\n",
    "\n",
    "report_cols = [\n",
    "    \"periods_since_severity_1\",\n",
    "    \"periods_since_severity_2\",\n",
    "    \"periods_since_severity_3\",\n",
    "]\n",
    "df_report.loc[\"Amsterdam\"][report_cols].plot(figsize=(12, 5))\n",
    "plt.title(\"Periods since accident in Amsterdam\")\n",
    "plt.xlabel(\"date\")\n",
    "plt.ylabel(\"periods\");"
   ]
  },
  {
   "cell_type": "markdown",
   "metadata": {},
   "source": [
    "We can even add one final column with the number of periods since any accident, just by taking the minimum of the other three columns."
   ]
  },
  {
   "cell_type": "code",
   "execution_count": 16,
   "metadata": {
    "collapsed": false
   },
   "outputs": [
    {
     "data": {
      "text/html": [
       "<div>\n",
       "<table border=\"1\" class=\"dataframe\">\n",
       "  <thead>\n",
       "    <tr style=\"text-align: right;\">\n",
       "      <th></th>\n",
       "      <th></th>\n",
       "      <th>periods_since_accident</th>\n",
       "    </tr>\n",
       "    <tr>\n",
       "      <th>location</th>\n",
       "      <th>time</th>\n",
       "      <th></th>\n",
       "    </tr>\n",
       "  </thead>\n",
       "  <tbody>\n",
       "    <tr>\n",
       "      <th rowspan=\"4\" valign=\"top\">Amsterdam</th>\n",
       "      <th>1980-01-31</th>\n",
       "      <td>0.0</td>\n",
       "    </tr>\n",
       "    <tr>\n",
       "      <th>1980-02-29</th>\n",
       "      <td>1.0</td>\n",
       "    </tr>\n",
       "    <tr>\n",
       "      <th>1980-03-31</th>\n",
       "      <td>2.0</td>\n",
       "    </tr>\n",
       "    <tr>\n",
       "      <th>1980-04-30</th>\n",
       "      <td>3.0</td>\n",
       "    </tr>\n",
       "    <tr>\n",
       "      <th>...</th>\n",
       "      <th>...</th>\n",
       "      <td>...</td>\n",
       "    </tr>\n",
       "    <tr>\n",
       "      <th rowspan=\"4\" valign=\"top\">Birmingham</th>\n",
       "      <th>2016-09-30</th>\n",
       "      <td>3.0</td>\n",
       "    </tr>\n",
       "    <tr>\n",
       "      <th>2016-10-31</th>\n",
       "      <td>4.0</td>\n",
       "    </tr>\n",
       "    <tr>\n",
       "      <th>2016-11-30</th>\n",
       "      <td>5.0</td>\n",
       "    </tr>\n",
       "    <tr>\n",
       "      <th>2016-12-31</th>\n",
       "      <td>0.0</td>\n",
       "    </tr>\n",
       "  </tbody>\n",
       "</table>\n",
       "<p>879 rows × 1 columns</p>\n",
       "</div>"
      ],
      "text/plain": [
       "                       periods_since_accident\n",
       "location   time                              \n",
       "Amsterdam  1980-01-31                     0.0\n",
       "           1980-02-29                     1.0\n",
       "           1980-03-31                     2.0\n",
       "           1980-04-30                     3.0\n",
       "...                                       ...\n",
       "Birmingham 2016-09-30                     3.0\n",
       "           2016-10-31                     4.0\n",
       "           2016-11-30                     5.0\n",
       "           2016-12-31                     0.0\n",
       "\n",
       "[879 rows x 1 columns]"
      ]
     },
     "execution_count": 16,
     "metadata": {},
     "output_type": "execute_result"
    }
   ],
   "source": [
    "df_report[\"periods_since_accident\"] = df_report[report_cols].min(axis=1)\n",
    "df_report[[\"periods_since_accident\"]]"
   ]
  },
  {
   "cell_type": "markdown",
   "metadata": {},
   "source": [
    "Happy incident tracking!"
   ]
  }
 ],
 "metadata": {
  "kernelspec": {
   "display_name": "Python 3",
   "language": "python",
   "name": "python3"
  },
  "language_info": {
   "codemirror_mode": {
    "name": "ipython",
    "version": 3
   },
   "file_extension": ".py",
   "mimetype": "text/x-python",
   "name": "python",
   "nbconvert_exporter": "python",
   "pygments_lexer": "ipython3",
   "version": "3.6.0"
  }
 },
 "nbformat": 4,
 "nbformat_minor": 2
}
